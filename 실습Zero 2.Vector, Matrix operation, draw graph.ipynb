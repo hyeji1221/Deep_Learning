{
 "cells": [
  {
   "cell_type": "markdown",
   "id": "sixth-interim",
   "metadata": {},
   "source": [
    "## 2. 벡터, 행렬 연산, 그래프 그리기\n",
    "텐서?\n",
    "- 다차원 배열을 일반화한 것\n",
    "\n",
    "랭크?\n",
    "- 텐서의 차원"
   ]
  },
  {
   "cell_type": "markdown",
   "id": "important-senegal",
   "metadata": {},
   "source": [
    "### 라이브러리(패키지) 로드"
   ]
  },
  {
   "cell_type": "code",
   "execution_count": 1,
   "id": "operational-manchester",
   "metadata": {},
   "outputs": [],
   "source": [
    "import numpy as np"
   ]
  },
  {
   "cell_type": "markdown",
   "id": "sorted-doubt",
   "metadata": {},
   "source": [
    "### 프린트"
   ]
  },
  {
   "cell_type": "code",
   "execution_count": 2,
   "id": "accurate-church",
   "metadata": {},
   "outputs": [],
   "source": [
    "def print_val(x):\n",
    "    print(\"Type:\", type(x))\n",
    "    print(\"Shape:\", x.shape)\n",
    "    print(\"값:\\n\", x)\n",
    "    print(\" \")"
   ]
  },
  {
   "cell_type": "markdown",
   "id": "addressed-ethernet",
   "metadata": {},
   "source": [
    "### rank 1 np array"
   ]
  },
  {
   "cell_type": "code",
   "execution_count": 3,
   "id": "prospective-catholic",
   "metadata": {},
   "outputs": [
    {
     "name": "stdout",
     "output_type": "stream",
     "text": [
      "('Type:', <type 'numpy.ndarray'>)\n",
      "('Shape:', (3,))\n",
      "('\\xea\\xb0\\x92:\\n', array([1, 2, 3]))\n",
      " \n",
      "('Type:', <type 'numpy.ndarray'>)\n",
      "('Shape:', (3,))\n",
      "('\\xea\\xb0\\x92:\\n', array([5, 2, 3]))\n",
      " \n"
     ]
    }
   ],
   "source": [
    "x = np.array([1,2,3])\n",
    "print_val(x)\n",
    "\n",
    "x[0] = 5\n",
    "print_val(x)"
   ]
  },
  {
   "cell_type": "markdown",
   "id": "sublime-joint",
   "metadata": {},
   "source": [
    "### rank 2 np array"
   ]
  },
  {
   "cell_type": "code",
   "execution_count": 4,
   "id": "special-romance",
   "metadata": {},
   "outputs": [
    {
     "name": "stdout",
     "output_type": "stream",
     "text": [
      "('Type:', <type 'numpy.ndarray'>)\n",
      "('Shape:', (2, 3))\n",
      "('\\xea\\xb0\\x92:\\n', array([[1, 2, 3],\n",
      "       [4, 5, 6]]))\n",
      " \n"
     ]
    }
   ],
   "source": [
    "y = np.array([[1,2,3],[4,5,6]])\n",
    "print_val(y)"
   ]
  },
  {
   "cell_type": "markdown",
   "id": "difficult-karma",
   "metadata": {},
   "source": [
    "### rank 2 zeros"
   ]
  },
  {
   "cell_type": "code",
   "execution_count": 5,
   "id": "brief-delivery",
   "metadata": {},
   "outputs": [
    {
     "name": "stdout",
     "output_type": "stream",
     "text": [
      "('Type:', <type 'numpy.ndarray'>)\n",
      "('Shape:', (2, 2))\n",
      "('\\xea\\xb0\\x92:\\n', array([[0., 0.],\n",
      "       [0., 0.]]))\n",
      " \n"
     ]
    }
   ],
   "source": [
    "a = np.zeros((2,2))\n",
    "print_val(a)"
   ]
  },
  {
   "cell_type": "markdown",
   "id": "apart-generation",
   "metadata": {},
   "source": [
    "### rank 2 ones"
   ]
  },
  {
   "cell_type": "code",
   "execution_count": 6,
   "id": "noticed-edinburgh",
   "metadata": {},
   "outputs": [
    {
     "name": "stdout",
     "output_type": "stream",
     "text": [
      "('Type:', <type 'numpy.ndarray'>)\n",
      "('Shape:', (3, 2))\n",
      "('\\xea\\xb0\\x92:\\n', array([[1., 1.],\n",
      "       [1., 1.],\n",
      "       [1., 1.]]))\n",
      " \n"
     ]
    }
   ],
   "source": [
    "a = np.ones((3,2))\n",
    "print_val(a)"
   ]
  },
  {
   "cell_type": "markdown",
   "id": "catholic-legislature",
   "metadata": {},
   "source": [
    "### rank 2 단위 행렬(identify matrix)"
   ]
  },
  {
   "cell_type": "code",
   "execution_count": 7,
   "id": "hollywood-medline",
   "metadata": {},
   "outputs": [
    {
     "name": "stdout",
     "output_type": "stream",
     "text": [
      "('Type:', <type 'numpy.ndarray'>)\n",
      "('Shape:', (3, 3))\n",
      "('\\xea\\xb0\\x92:\\n', array([[1., 0., 0.],\n",
      "       [0., 1., 0.],\n",
      "       [0., 0., 1.]]))\n",
      " \n"
     ]
    }
   ],
   "source": [
    "a = np.eye(3,3)\n",
    "print_val(a)"
   ]
  },
  {
   "cell_type": "markdown",
   "id": "satisfied-teddy",
   "metadata": {},
   "source": [
    "### 랜덤 행렬(uniform: 0~1 사이의 모든 값들이 나올 확률이 같음)"
   ]
  },
  {
   "cell_type": "code",
   "execution_count": 8,
   "id": "deadly-layout",
   "metadata": {},
   "outputs": [
    {
     "name": "stdout",
     "output_type": "stream",
     "text": [
      "('Type:', <type 'numpy.ndarray'>)\n",
      "('Shape:', (4, 4))\n",
      "('\\xea\\xb0\\x92:\\n', array([[0.1245677 , 0.37926358, 0.19619111, 0.20272255],\n",
      "       [0.06325741, 0.61672526, 0.49501955, 0.82200671],\n",
      "       [0.40765031, 0.24777991, 0.52572498, 0.74125371],\n",
      "       [0.40243339, 0.79361054, 0.50027837, 0.3271496 ]]))\n",
      " \n"
     ]
    }
   ],
   "source": [
    "a = np.random.random((4,4))\n",
    "print_val(a)"
   ]
  },
  {
   "cell_type": "markdown",
   "id": "accepting-invention",
   "metadata": {},
   "source": [
    "### 랜덤 행렬(Gaussian: 0을 평균으로 하는 가우시안 분포를 따르는 랜덤값)"
   ]
  },
  {
   "cell_type": "code",
   "execution_count": 9,
   "id": "unlimited-secretary",
   "metadata": {},
   "outputs": [
    {
     "name": "stdout",
     "output_type": "stream",
     "text": [
      "('Type:', <type 'numpy.ndarray'>)\n",
      "('Shape:', (4, 4))\n",
      "('\\xea\\xb0\\x92:\\n', array([[ 1.1705126 ,  0.33290109, -1.00819173,  1.55383704],\n",
      "       [-0.20026865,  0.06016801,  2.46846134, -0.74739003],\n",
      "       [-0.02188405, -1.20951345,  0.27384589, -1.73522187],\n",
      "       [-0.75449605,  1.20351914, -1.22962621, -1.05925742]]))\n",
      " \n"
     ]
    }
   ],
   "source": [
    "a = np.random.randn(4,4)\n",
    "print_val(a)"
   ]
  },
  {
   "cell_type": "markdown",
   "id": "ordered-forge",
   "metadata": {},
   "source": [
    "### np array indexing"
   ]
  },
  {
   "cell_type": "code",
   "execution_count": 10,
   "id": "attached-explosion",
   "metadata": {},
   "outputs": [
    {
     "name": "stdout",
     "output_type": "stream",
     "text": [
      "('Type:', <type 'numpy.ndarray'>)\n",
      "('Shape:', (3, 4))\n",
      "('\\xea\\xb0\\x92:\\n', array([[ 1,  2,  3,  4],\n",
      "       [ 5,  6,  7,  8],\n",
      "       [ 9, 10, 11, 12]]))\n",
      " \n"
     ]
    }
   ],
   "source": [
    "a = np.array([[1,2,3,4], [5,6,7,8],[9,10,11,12]])\n",
    "print_val(a)"
   ]
  },
  {
   "cell_type": "code",
   "execution_count": 11,
   "id": "smart-combination",
   "metadata": {},
   "outputs": [
    {
     "name": "stdout",
     "output_type": "stream",
     "text": [
      "('Type:', <type 'numpy.ndarray'>)\n",
      "('Shape:', (2, 2))\n",
      "('\\xea\\xb0\\x92:\\n', array([[2, 3],\n",
      "       [6, 7]]))\n",
      " \n"
     ]
    }
   ],
   "source": [
    "b = a[:2, 1:3]\n",
    "print_val(b)"
   ]
  },
  {
   "cell_type": "markdown",
   "id": "fundamental-heather",
   "metadata": {},
   "source": [
    "### 행렬의 n번째 행 얻기"
   ]
  },
  {
   "cell_type": "code",
   "execution_count": 12,
   "id": "automated-consent",
   "metadata": {},
   "outputs": [
    {
     "name": "stdout",
     "output_type": "stream",
     "text": [
      "('Type:', <type 'numpy.ndarray'>)\n",
      "('Shape:', (4,))\n",
      "('\\xea\\xb0\\x92:\\n', array([5, 6, 7, 8]))\n",
      " \n"
     ]
    }
   ],
   "source": [
    "row1 = a[1,:]\n",
    "print_val(row1)"
   ]
  },
  {
   "cell_type": "markdown",
   "id": "cardiac-screw",
   "metadata": {},
   "source": [
    "### 행렬의 원소별 연산"
   ]
  },
  {
   "cell_type": "code",
   "execution_count": 13,
   "id": "raised-suspension",
   "metadata": {},
   "outputs": [
    {
     "name": "stdout",
     "output_type": "stream",
     "text": [
      "('Type:', <type 'numpy.ndarray'>)\n",
      "('Shape:', (2, 2))\n",
      "('\\xea\\xb0\\x92:\\n', array([[ 6.,  8.],\n",
      "       [10., 12.]]))\n",
      " \n",
      "('Type:', <type 'numpy.ndarray'>)\n",
      "('Shape:', (2, 2))\n",
      "('\\xea\\xb0\\x92:\\n', array([[ 6.,  8.],\n",
      "       [10., 12.]]))\n",
      " \n",
      "('Type:', <type 'numpy.ndarray'>)\n",
      "('Shape:', (2, 2))\n",
      "('\\xea\\xb0\\x92:\\n', array([[-4., -4.],\n",
      "       [-4., -4.]]))\n",
      " \n",
      "('Type:', <type 'numpy.ndarray'>)\n",
      "('Shape:', (2, 2))\n",
      "('\\xea\\xb0\\x92:\\n', array([[-4., -4.],\n",
      "       [-4., -4.]]))\n",
      " \n",
      "('Type:', <type 'numpy.ndarray'>)\n",
      "('Shape:', (2, 2))\n",
      "('\\xea\\xb0\\x92:\\n', array([[ 5., 12.],\n",
      "       [21., 32.]]))\n",
      " \n",
      "('Type:', <type 'numpy.ndarray'>)\n",
      "('Shape:', (2, 2))\n",
      "('\\xea\\xb0\\x92:\\n', array([[ 5., 12.],\n",
      "       [21., 32.]]))\n",
      " \n",
      "('Type:', <type 'numpy.ndarray'>)\n",
      "('Shape:', (2, 2))\n",
      "('\\xea\\xb0\\x92:\\n', array([[0.2       , 0.33333333],\n",
      "       [0.42857143, 0.5       ]]))\n",
      " \n",
      "('Type:', <type 'numpy.ndarray'>)\n",
      "('Shape:', (2, 2))\n",
      "('\\xea\\xb0\\x92:\\n', array([[0.2       , 0.33333333],\n",
      "       [0.42857143, 0.5       ]]))\n",
      " \n",
      "('Type:', <type 'numpy.ndarray'>)\n",
      "('Shape:', (2, 2))\n",
      "('\\xea\\xb0\\x92:\\n', array([[1.        , 1.41421356],\n",
      "       [1.73205081, 2.        ]]))\n",
      " \n"
     ]
    }
   ],
   "source": [
    "m1 = np.array([[1,2],[3,4]], dtype = np.float64)\n",
    "m2 = np.array([[5,6],[7,8]], dtype = np.float64)\n",
    "\n",
    "#sum\n",
    "print_val(m1+ m2)\n",
    "print_val(np.add(m1, m2))\n",
    "\n",
    "#elementwise difference\n",
    "print_val(m1 - m2)\n",
    "print_val(np.subtract(m1, m2))\n",
    "\n",
    "#elementwise product\n",
    "print_val(m1*m2)\n",
    "print_val(np.multiply(m1, m2))\n",
    "\n",
    "#elementwise division\n",
    "print_val(m1/m2)\n",
    "print_val(np.divide(m1, m2))\n",
    "\n",
    "#elementwise square root\n",
    "print_val(np.sqrt(m1))"
   ]
  },
  {
   "cell_type": "markdown",
   "id": "neural-argentina",
   "metadata": {},
   "source": [
    "### 행렬 연산"
   ]
  },
  {
   "cell_type": "code",
   "execution_count": 14,
   "id": "alone-bahamas",
   "metadata": {},
   "outputs": [
    {
     "name": "stdout",
     "output_type": "stream",
     "text": [
      "('Type:', <type 'numpy.ndarray'>)\n",
      "('Shape:', (2, 2))\n",
      "('\\xea\\xb0\\x92:\\n', array([[1, 2],\n",
      "       [3, 4]]))\n",
      " \n",
      "('Type:', <type 'numpy.ndarray'>)\n",
      "('Shape:', (2, 2))\n",
      "('\\xea\\xb0\\x92:\\n', array([[5, 6],\n",
      "       [7, 8]]))\n",
      " \n",
      "('Type:', <type 'numpy.ndarray'>)\n",
      "('Shape:', (2,))\n",
      "('\\xea\\xb0\\x92:\\n', array([ 9, 10]))\n",
      " \n",
      "('Type:', <type 'numpy.ndarray'>)\n",
      "('Shape:', (2,))\n",
      "('\\xea\\xb0\\x92:\\n', array([11, 12]))\n",
      " \n"
     ]
    }
   ],
   "source": [
    "m1 = np.array([[1,2],[3,4]])\n",
    "m2 = np.array([[5,6],[7,8]])\n",
    "v1 = np.array([9,10])\n",
    "v2 = np.array([11,12])\n",
    "\n",
    "print_val(m1)\n",
    "print_val(m2)\n",
    "print_val(v1)\n",
    "print_val(v2)"
   ]
  },
  {
   "cell_type": "markdown",
   "id": "bizarre-yahoo",
   "metadata": {},
   "source": [
    "### 벡터-벡터 연산"
   ]
  },
  {
   "cell_type": "code",
   "execution_count": 15,
   "id": "artificial-madness",
   "metadata": {},
   "outputs": [
    {
     "name": "stdout",
     "output_type": "stream",
     "text": [
      "('Type:', <type 'numpy.int64'>)\n",
      "('Shape:', ())\n",
      "('\\xea\\xb0\\x92:\\n', 219)\n",
      " \n",
      "('Type:', <type 'numpy.int64'>)\n",
      "('Shape:', ())\n",
      "('\\xea\\xb0\\x92:\\n', 219)\n",
      " \n"
     ]
    }
   ],
   "source": [
    "print_val(v1.dot(v2))\n",
    "print_val(np.dot(v1, v2))"
   ]
  },
  {
   "cell_type": "markdown",
   "id": "subject-wallpaper",
   "metadata": {},
   "source": [
    "### 벡터-행렬 연산"
   ]
  },
  {
   "cell_type": "code",
   "execution_count": 16,
   "id": "entitled-philosophy",
   "metadata": {},
   "outputs": [
    {
     "name": "stdout",
     "output_type": "stream",
     "text": [
      "('Type:', <type 'numpy.ndarray'>)\n",
      "('Shape:', (2,))\n",
      "('\\xea\\xb0\\x92:\\n', array([29, 67]))\n",
      " \n",
      "('Type:', <type 'numpy.ndarray'>)\n",
      "('Shape:', (2,))\n",
      "('\\xea\\xb0\\x92:\\n', array([29, 67]))\n",
      " \n"
     ]
    }
   ],
   "source": [
    "print_val(m1.dot(v1))\n",
    "print_val(np.dot(m1, v1))"
   ]
  },
  {
   "cell_type": "markdown",
   "id": "hazardous-safety",
   "metadata": {},
   "source": [
    "### 행렬-행렬 연산"
   ]
  },
  {
   "cell_type": "code",
   "execution_count": 17,
   "id": "dedicated-fever",
   "metadata": {},
   "outputs": [
    {
     "name": "stdout",
     "output_type": "stream",
     "text": [
      "('Type:', <type 'numpy.ndarray'>)\n",
      "('Shape:', (2, 2))\n",
      "('\\xea\\xb0\\x92:\\n', array([[19, 22],\n",
      "       [43, 50]]))\n",
      " \n",
      "('Type:', <type 'numpy.ndarray'>)\n",
      "('Shape:', (2, 2))\n",
      "('\\xea\\xb0\\x92:\\n', array([[19, 22],\n",
      "       [43, 50]]))\n",
      " \n"
     ]
    }
   ],
   "source": [
    "print_val(m1.dot(m2))\n",
    "print_val(np.dot(m1,m2))"
   ]
  },
  {
   "cell_type": "markdown",
   "id": "fifty-teens",
   "metadata": {},
   "source": [
    "### 전치 행렬(transpose)"
   ]
  },
  {
   "cell_type": "code",
   "execution_count": 18,
   "id": "automatic-terrace",
   "metadata": {},
   "outputs": [
    {
     "name": "stdout",
     "output_type": "stream",
     "text": [
      "('Type:', <type 'numpy.ndarray'>)\n",
      "('Shape:', (2, 2))\n",
      "('\\xea\\xb0\\x92:\\n', array([[1, 2],\n",
      "       [3, 4]]))\n",
      " \n",
      "('Type:', <type 'numpy.ndarray'>)\n",
      "('Shape:', (2, 2))\n",
      "('\\xea\\xb0\\x92:\\n', array([[1, 3],\n",
      "       [2, 4]]))\n",
      " \n"
     ]
    }
   ],
   "source": [
    "print_val(m1)\n",
    "print_val(m1.T)"
   ]
  },
  {
   "cell_type": "markdown",
   "id": "saved-vacuum",
   "metadata": {},
   "source": [
    "### 합"
   ]
  },
  {
   "cell_type": "code",
   "execution_count": 19,
   "id": "suburban-collins",
   "metadata": {},
   "outputs": [
    {
     "name": "stdout",
     "output_type": "stream",
     "text": [
      "('Type:', <type 'numpy.int64'>)\n",
      "('Shape:', ())\n",
      "('\\xea\\xb0\\x92:\\n', 10)\n",
      " \n",
      "('Type:', <type 'numpy.ndarray'>)\n",
      "('Shape:', (2,))\n",
      "('\\xea\\xb0\\x92:\\n', array([4, 6]))\n",
      " \n",
      "('Type:', <type 'numpy.ndarray'>)\n",
      "('Shape:', (2,))\n",
      "('\\xea\\xb0\\x92:\\n', array([3, 7]))\n",
      " \n"
     ]
    }
   ],
   "source": [
    "print_val(np.sum(m1)) \n",
    "print_val(np.sum(m1, axis = 0)) \n",
    "print_val(np.sum(m1, axis = 1)) "
   ]
  },
  {
   "cell_type": "code",
   "execution_count": 20,
   "id": "peripheral-grove",
   "metadata": {},
   "outputs": [
    {
     "name": "stdout",
     "output_type": "stream",
     "text": [
      "[[1 2 3]\n",
      " [4 5 6]]\n",
      "(2, 3)\n"
     ]
    }
   ],
   "source": [
    "m1 = np.array([[1,2,3],[4,5,6]])\n",
    "print(m1)\n",
    "print(m1.shape)"
   ]
  },
  {
   "cell_type": "code",
   "execution_count": 21,
   "id": "sharp-kernel",
   "metadata": {},
   "outputs": [
    {
     "name": "stdout",
     "output_type": "stream",
     "text": [
      "21\n",
      "[5 7 9]\n",
      "[ 6 15]\n"
     ]
    }
   ],
   "source": [
    "print(np.sum(m1))\n",
    "print(np.sum(m1, axis = 0))\n",
    "print(np.sum(m1, axis = 1))"
   ]
  },
  {
   "cell_type": "markdown",
   "id": "coordinate-kazakhstan",
   "metadata": {},
   "source": [
    "### zeros-like"
   ]
  },
  {
   "cell_type": "code",
   "execution_count": 22,
   "id": "square-network",
   "metadata": {},
   "outputs": [
    {
     "name": "stdout",
     "output_type": "stream",
     "text": [
      "('Type:', <type 'numpy.ndarray'>)\n",
      "('Shape:', (4, 3))\n",
      "('\\xea\\xb0\\x92:\\n', array([[ 1,  2,  3],\n",
      "       [ 4,  5,  6],\n",
      "       [ 7,  8,  9],\n",
      "       [10, 11, 12]]))\n",
      " \n",
      "('Type:', <type 'numpy.ndarray'>)\n",
      "('Shape:', (4, 3))\n",
      "('\\xea\\xb0\\x92:\\n', array([[0, 0, 0],\n",
      "       [0, 0, 0],\n",
      "       [0, 0, 0],\n",
      "       [0, 0, 0]]))\n",
      " \n"
     ]
    }
   ],
   "source": [
    "m1 = np.array([[1,2,3],[4,5,6],[7,8,9],[10,11,12]])\n",
    "m2 = np.zeros_like(m1)\n",
    "print_val(m1)\n",
    "print_val(m2)"
   ]
  },
  {
   "cell_type": "markdown",
   "id": "virgin-training",
   "metadata": {},
   "source": [
    "### Matplot library"
   ]
  },
  {
   "cell_type": "code",
   "execution_count": 23,
   "id": "little-shopper",
   "metadata": {},
   "outputs": [
    {
     "data": {
      "text/plain": [
       "[<matplotlib.lines.Line2D at 0x7f012907d750>]"
      ]
     },
     "execution_count": 23,
     "metadata": {},
     "output_type": "execute_result"
    },
    {
     "data": {
      "image/png": "[encoded data removed]",
      "text/plain": [
       "<Figure size 432x288 with 1 Axes>"
      ]
     },
     "metadata": {
      "needs_background": "light"
     },
     "output_type": "display_data"
    }
   ],
   "source": [
    "import matplotlib.pyplot as plt\n",
    "%matplotlib inline\n",
    "\n",
    "#sin 커브\n",
    "x = np.arange(0,10,0.1) \n",
    "y = np.sin(x)\n",
    "\n",
    "plt.plot(x,y)"
   ]
  },
  {
   "cell_type": "markdown",
   "id": "compound-locking",
   "metadata": {},
   "source": [
    "### 한 번에 두 개 그래프 그리기"
   ]
  },
  {
   "cell_type": "code",
   "execution_count": 24,
   "id": "statistical-prompt",
   "metadata": {},
   "outputs": [
    {
     "data": {
      "image/png": "[encoded data removed]",
      "text/plain": [
       "<Figure size 432x288 with 1 Axes>"
      ]
     },
     "metadata": {
      "needs_background": "light"
     },
     "output_type": "display_data"
    }
   ],
   "source": [
    "y_sin = np.sin(x)\n",
    "y_cos = np.cos(x)\n",
    "\n",
    "plt.plot(x, y_sin)\n",
    "plt.plot(x, y_cos)\n",
    "plt.xlabel('x axis label')\n",
    "plt.ylabel('y axis label')\n",
    "plt.title('sin and cos')\n",
    "plt.legend(['sin','cos'])\n",
    "\n",
    "plt.show()"
   ]
  },
  {
   "cell_type": "markdown",
   "id": "chemical-chrome",
   "metadata": {},
   "source": [
    "### subplot"
   ]
  },
  {
   "cell_type": "code",
   "execution_count": 25,
   "id": "suffering-egyptian",
   "metadata": {},
   "outputs": [
    {
     "data": {
      "image/png": "[encoded data removed]",
      "text/plain": [
       "<Figure size 432x288 with 2 Axes>"
      ]
     },
     "metadata": {
      "needs_background": "light"
     },
     "output_type": "display_data"
    }
   ],
   "source": [
    "plt.subplot(2,1,1)\n",
    "plt.plot(x, y_sin)\n",
    "plt.title('sin')\n",
    "\n",
    "plt.subplot(2,1,2)\n",
    "plt.plot(x, y_cos)\n",
    "plt.title('cos')\n",
    "\n",
    "plt.show()"
   ]
  },
  {
   "cell_type": "code",
   "execution_count": null,
   "id": "scientific-prairie",
   "metadata": {},
   "outputs": [],
   "source": []
  }
 ],
 "metadata": {
  "kernelspec": {
   "display_name": "conda_pytorch_p27",
   "language": "python",
   "name": "conda_pytorch_p27"
  },
  "language_info": {
   "codemirror_mode": {
    "name": "ipython",
    "version": 2
   },
   "file_extension": ".py",
   "mimetype": "text/x-python",
   "name": "python",
   "nbconvert_exporter": "python",
   "pygments_lexer": "ipython2",
   "version": "2.7.16"
  }
 },
 "nbformat": 4,
 "nbformat_minor": 5
}
