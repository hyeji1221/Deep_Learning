{
 "cells": [
  {
   "cell_type": "markdown",
   "id": "thorough-postage",
   "metadata": {},
   "source": [
    "## 3. 파이토치 기초"
   ]
  },
  {
   "cell_type": "code",
   "execution_count": 3,
   "id": "aware-exclusion",
   "metadata": {},
   "outputs": [],
   "source": [
    "def print_val(x):\n",
    "    print(\"Type:\", type(x))\n",
    "    print(\"Shape:\", x.shape)\n",
    "    print(\"값:\\n\", x)\n",
    "    print(\" \")"
   ]
  },
  {
   "cell_type": "code",
   "execution_count": 4,
   "id": "requested-progressive",
   "metadata": {},
   "outputs": [],
   "source": [
    "import torch"
   ]
  },
  {
   "cell_type": "code",
   "execution_count": 5,
   "id": "failing-proof",
   "metadata": {},
   "outputs": [
    {
     "name": "stdout",
     "output_type": "stream",
     "text": [
      "('Type:', <class 'torch.Tensor'>)\n",
      "('Shape:', torch.Size([2, 3, 2]))\n",
      "('\\xea\\xb0\\x92:\\n', tensor([[[0.8344, 0.3012],\n",
      "         [0.1888, 0.5350],\n",
      "         [0.0017, 0.6638]],\n",
      "\n",
      "        [[0.7269, 0.8761],\n",
      "         [0.1413, 0.0313],\n",
      "         [0.7420, 0.4324]]]))\n",
      " \n",
      "('Type:', <class 'torch.Tensor'>)\n",
      "('Shape:', torch.Size([2, 3]))\n",
      "('\\xea\\xb0\\x92:\\n', tensor([[0.4449, 0.6497, 0.7159],\n",
      "        [0.8843, 0.9533, 0.9946]]))\n",
      " \n"
     ]
    }
   ],
   "source": [
    "x = torch.rand(2,3,2)\n",
    "print_val(x)\n",
    "\n",
    "x = torch.rand(2,3)\n",
    "print_val(x)"
   ]
  },
  {
   "cell_type": "code",
   "execution_count": 6,
   "id": "cloudy-bikini",
   "metadata": {},
   "outputs": [
    {
     "name": "stdout",
     "output_type": "stream",
     "text": [
      "('Type:', <class 'torch.Tensor'>)\n",
      "('Shape:', torch.Size([4]))\n",
      "('\\xea\\xb0\\x92:\\n', tensor([0, 1, 2, 3]))\n",
      " \n"
     ]
    }
   ],
   "source": [
    "x = torch.randperm(4) # 0~n-1 까지 값을 원소로 갖는 배열 -> 랜덤 배열\n",
    "print_val(x)"
   ]
  },
  {
   "cell_type": "code",
   "execution_count": 9,
   "id": "plain-offense",
   "metadata": {},
   "outputs": [
    {
     "name": "stdout",
     "output_type": "stream",
     "text": [
      "('Type:', <class 'torch.Tensor'>)\n",
      "('Shape:', torch.Size([6]))\n",
      "('\\xea\\xb0\\x92:\\n', tensor([0.0000, 0.5000, 1.0000, 1.5000, 2.0000, 2.5000]))\n",
      " \n"
     ]
    }
   ],
   "source": [
    "# [start, end] 구간을 step 단위로 나눠서 배열로 생성\n",
    "x = torch.arange(0, 3, step=0.5)\n",
    "print_val(x)"
   ]
  },
  {
   "cell_type": "code",
   "execution_count": 10,
   "id": "rural-morocco",
   "metadata": {},
   "outputs": [
    {
     "name": "stdout",
     "output_type": "stream",
     "text": [
      "('Type:', <class 'torch.Tensor'>)\n",
      "('Shape:', torch.Size([3, 4]))\n",
      "('\\xea\\xb0\\x92:\\n', tensor([[1., 1., 1., 1.],\n",
      "        [1., 1., 1., 1.],\n",
      "        [1., 1., 1., 1.]]))\n",
      " \n",
      "('Type:', <class 'torch.Tensor'>)\n",
      "('Shape:', torch.Size([3, 4]))\n",
      "('\\xea\\xb0\\x92:\\n', tensor([[0., 0., 0., 0.],\n",
      "        [0., 0., 0., 0.],\n",
      "        [0., 0., 0., 0.]]))\n",
      " \n"
     ]
    }
   ],
   "source": [
    "print_val(torch.ones(3,4))\n",
    "print_val(torch.zeros(3,4))"
   ]
  },
  {
   "cell_type": "code",
   "execution_count": 11,
   "id": "intimate-airfare",
   "metadata": {},
   "outputs": [
    {
     "name": "stdout",
     "output_type": "stream",
     "text": [
      "('Type:', <class 'torch.Tensor'>)\n",
      "('Shape:', torch.Size([2, 4]))\n",
      "('\\xea\\xb0\\x92:\\n', tensor([[1.1137e+07, 3.0886e-41, 7.1856e+22, 2.3329e-18],\n",
      "        [1.6678e+19, 7.0976e+22, 4.7881e+22, 2.8826e+32]]))\n",
      " \n"
     ]
    }
   ],
   "source": [
    "print_val(torch.Tensor(2,4))"
   ]
  },
  {
   "cell_type": "code",
   "execution_count": 14,
   "id": "forced-fitting",
   "metadata": {},
   "outputs": [
    {
     "name": "stdout",
     "output_type": "stream",
     "text": [
      "('Type:', <class 'torch.Tensor'>)\n",
      "('Shape:', torch.Size([2]))\n",
      "('\\xea\\xb0\\x92:\\n', tensor([2., 3.]))\n",
      " \n",
      "('Type:', <class 'torch.Tensor'>)\n",
      "('Shape:', torch.Size([2, 2]))\n",
      "('\\xea\\xb0\\x92:\\n', tensor([[2., 3.],\n",
      "        [3., 4.]]))\n",
      " \n"
     ]
    }
   ],
   "source": [
    "print_val(torch.Tensor([2,3]))\n",
    "\n",
    "print_val(torch.Tensor([[2,3], [3,4]]))"
   ]
  },
  {
   "cell_type": "code",
   "execution_count": 15,
   "id": "vulnerable-christian",
   "metadata": {},
   "outputs": [
    {
     "name": "stdout",
     "output_type": "stream",
     "text": [
      "('Type:', <class 'torch.Tensor'>)\n",
      "('Shape:', torch.Size([2, 3]))\n",
      "('\\xea\\xb0\\x92:\\n', tensor([[-5.2667e+07,  4.5768e-41,  1.1139e+07],\n",
      "        [ 3.0886e-41,  0.0000e+00,  0.0000e+00]]))\n",
      " \n",
      "('Type:', <class 'torch.Tensor'>)\n",
      "('Shape:', torch.Size([2, 3]))\n",
      "('\\xea\\xb0\\x92:\\n', tensor([[-52666720,         0,  11138944],\n",
      "        [        0,         0,         0]], dtype=torch.int32))\n",
      " \n"
     ]
    }
   ],
   "source": [
    "# 텐서 타입 변환\n",
    "x = torch.FloatTensor(2,3)\n",
    "print_val(x)\n",
    "\n",
    "x = x.type_as(torch.IntTensor())\n",
    "print_val(x)"
   ]
  },
  {
   "cell_type": "code",
   "execution_count": 16,
   "id": "european-endorsement",
   "metadata": {},
   "outputs": [
    {
     "data": {
      "text/plain": [
       "torch.Size([3, 4, 5])"
      ]
     },
     "execution_count": 16,
     "metadata": {},
     "output_type": "execute_result"
    }
   ],
   "source": [
    "# 텐서 크기 변환\n",
    "torch.FloatTensor(3,4,5).size()"
   ]
  },
  {
   "cell_type": "code",
   "execution_count": 18,
   "id": "crucial-malawi",
   "metadata": {},
   "outputs": [
    {
     "name": "stdout",
     "output_type": "stream",
     "text": [
      "('Type:', <type 'numpy.ndarray'>)\n",
      "('Shape:', (2, 3))\n",
      "('\\xea\\xb0\\x92:\\n', array([[ 94666597839192, 140281226625120, 140281349985224],\n",
      "       [140281151482688, 140279228711200, 140281349987624]]))\n",
      " \n",
      "('Type:', <class 'torch.Tensor'>)\n",
      "('Shape:', torch.Size([2, 3]))\n",
      "('\\xea\\xb0\\x92:\\n', tensor([[ 94666597839192, 140281226625120, 140281349985224],\n",
      "        [140281151482688, 140279228711200, 140281349987624]]))\n",
      " \n"
     ]
    }
   ],
   "source": [
    "# numpy array -> torch tensor\n",
    "import numpy as np\n",
    "np_x = np.ndarray((2,3), dtype=int)\n",
    "print_val(np_x) # numpy\n",
    "\n",
    "x = torch.from_numpy(np_x)\n",
    "print_val(x) # torch tensor"
   ]
  },
  {
   "cell_type": "code",
   "execution_count": null,
   "id": "bulgarian-pharmaceutical",
   "metadata": {},
   "outputs": [],
   "source": []
  }
 ],
 "metadata": {
  "kernelspec": {
   "display_name": "conda_pytorch_p27",
   "language": "python",
   "name": "conda_pytorch_p27"
  },
  "language_info": {
   "codemirror_mode": {
    "name": "ipython",
    "version": 2
   },
   "file_extension": ".py",
   "mimetype": "text/x-python",
   "name": "python",
   "nbconvert_exporter": "python",
   "pygments_lexer": "ipython2",
   "version": "2.7.16"
  }
 },
 "nbformat": 4,
 "nbformat_minor": 5
}
