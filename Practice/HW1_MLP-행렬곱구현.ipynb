{
 "cells": [
  {
   "cell_type": "markdown",
   "id": "aware-license",
   "metadata": {},
   "source": [
    "# [실습01] MLP-행렬곱 구현\n",
    "## 201911007 컴퓨터과학과 임혜지"
   ]
  },
  {
   "cell_type": "markdown",
   "id": "listed-tuesday",
   "metadata": {},
   "source": [
    "## 1. 라이브러리 임포트"
   ]
  },
  {
   "cell_type": "code",
   "execution_count": 1,
   "id": "behavioral-pickup",
   "metadata": {},
   "outputs": [],
   "source": [
    "import numpy as np\n",
    "import matplotlib.pyplot as plt\n",
    "%matplotlib inline\n",
    "\n",
    "import torch\n",
    "import torchvision.datasets as dset\n",
    "import torchvision.transforms as transforms"
   ]
  },
  {
   "cell_type": "markdown",
   "id": "imperial-crawford",
   "metadata": {},
   "source": [
    "## 2. MNIST test dataset 가져오기"
   ]
  },
  {
   "cell_type": "code",
   "execution_count": 2,
   "id": "rough-extent",
   "metadata": {},
   "outputs": [],
   "source": [
    "# \"\": 현재 폴더에 MNIST 있음\n",
    "mnist_test=dset.MNIST(\"\", train=False, transform=transforms.ToTensor(),    # test 용으로 쓰겠다.\n",
    "                      target_transform=None, download=True)"
   ]
  },
  {
   "cell_type": "markdown",
   "id": "peripheral-afternoon",
   "metadata": {},
   "source": [
    "## 3. 대략적인 데이터 형태"
   ]
  },
  {
   "cell_type": "code",
   "execution_count": 3,
   "id": "particular-foundation",
   "metadata": {},
   "outputs": [
    {
     "name": "stdout",
     "output_type": "stream",
     "text": [
      "mnist_test 길이: 10000\n",
      "image data 형태: torch.Size([1, 28, 28])\n",
      "label:  7\n"
     ]
    },
    {
     "data": {
      "image/png": "[encoded data removed]",
      "text/plain": [
       "<Figure size 432x288 with 1 Axes>"
      ]
     },
     "metadata": {
      "needs_background": "light"
     },
     "output_type": "display_data"
    }
   ],
   "source": [
    "print \"mnist_test 길이:\", len(mnist_test)\n",
    "\n",
    "# 데이터 하나 형태\n",
    "image, label = mnist_test.__getitem__(0)    # 0번째 데이터\n",
    "print \"image data 형태:\", image.size()\n",
    "print \"label: \", label\n",
    "\n",
    "# 그리기\n",
    "img = image.numpy()    # image 타입을 numpy 로 변환 (1, 28, 28)\n",
    "plt.title(\"label: %d\" %label)\n",
    "plt.imshow(img[0], cmap='gray')\n",
    "plt.show()"
   ]
  },
  {
   "cell_type": "markdown",
   "id": "matched-senior",
   "metadata": {},
   "source": [
    "## 4. sigmoid, softmax 함수 구현"
   ]
  },
  {
   "cell_type": "code",
   "execution_count": 4,
   "id": "fatal-crown",
   "metadata": {},
   "outputs": [],
   "source": [
    "def sigmoid(x):\n",
    "    return 1/(1+np.exp(-x))\n",
    "\n",
    "def softmax(x):\n",
    "    e_x = np.exp(x)\n",
    "    return e_x/np.sum(e_x)"
   ]
  },
  {
   "cell_type": "markdown",
   "id": "mechanical-malta",
   "metadata": {},
   "source": [
    "## 5. 모델 선언"
   ]
  },
  {
   "cell_type": "code",
   "execution_count": 5,
   "id": "outdoor-protest",
   "metadata": {},
   "outputs": [],
   "source": [
    "# Multi-layered perceptron\n",
    "# # of units in each layer: 28*28 - 256 - 128 -10\n",
    "class MyMLP:\n",
    "    # W^(1): later1 -> layer2 에 매핑되는 Weight\n",
    "    def __init__(self, n_input, n_hidden1, n_hidden2, n_output):\n",
    "        self.W1 = np.zeros((n_hidden1, n_input), dtype=np.float32)    # W1(256, 28*28)\n",
    "        self.b1 = np.zeros((n_hidden1,), dtype=np.float32)\n",
    "        \n",
    "        self.W2 = np.zeros((n_hidden2, n_hidden1), dtype=np.float32)     # W2(128, 256)\n",
    "        self.b2 = np.zeros((n_hidden2,), dtype=np.float32)\n",
    "        \n",
    "        self.W3 = np.zeros((n_output, n_hidden2), dtype=np.float32)     # W3(10, 128)\n",
    "        self.b3 = np.zeros((n_output,), dtype=np.float32)    # b3\n",
    "        \n",
    "    def __call__(self, x):\n",
    "        # (1,28,28) -> (28*28)\n",
    "        x = x.reshape(-1)    # 일렬로 피기\n",
    "        \n",
    "        h1 = sigmoid(np.dot(self.W1, x) + self.b1) # W1(256, 28*28), x(28*28), b1(256) -> h1(256)\n",
    "        h2 = np.dot(self.W2, h1) + self.b2 # W2(128, 256), h1(256), b2(128) -> h2(128)\n",
    "        out = np.dot(self.W3, h2) + self.b3 # W3(10, 128), h2(128), b3(10) -> out(10)\n",
    "        \n",
    "        return softmax(out)"
   ]
  },
  {
   "cell_type": "markdown",
   "id": "representative-imperial",
   "metadata": {},
   "source": [
    "## 6. 모델 생성"
   ]
  },
  {
   "cell_type": "code",
   "execution_count": 6,
   "id": "grand-starter",
   "metadata": {},
   "outputs": [
    {
     "name": "stdout",
     "output_type": "stream",
     "text": [
      "(256, 784) (256,)\n",
      "(128, 256) (128,)\n",
      "(10, 128) (10,)\n"
     ]
    }
   ],
   "source": [
    "model = MyMLP(28*28, 256, 128, 10)\n",
    "\n",
    "print model.W1.shape, model.b1.shape\n",
    "print model.W2.shape, model.b2.shape\n",
    "print model.W3.shape, model.b3.shape"
   ]
  },
  {
   "cell_type": "markdown",
   "id": "presidential-residence",
   "metadata": {},
   "source": [
    "## 7. 미리 학습된 weight 로드"
   ]
  },
  {
   "cell_type": "code",
   "execution_count": 7,
   "id": "early-round",
   "metadata": {},
   "outputs": [
    {
     "name": "stdout",
     "output_type": "stream",
     "text": [
      "(256, 784) (256,)\n",
      "(128, 256) (128,)\n",
      "(10, 128) (10,)\n"
     ]
    }
   ],
   "source": [
    "weights = np.load('./nets/mlp_weight.npz')\n",
    "model.W1 = weights['W1']\n",
    "model.b1 = weights['b1']\n",
    "model.W2 = weights['W2']\n",
    "model.b2 = weights['b2']\n",
    "model.W3 = weights['W3']\n",
    "model.b3 = weights['b3']\n",
    "\n",
    "print model.W1.shape, model.b1.shape\n",
    "print model.W2.shape, model.b2.shape\n",
    "print model.W3.shape, model.b3.shape"
   ]
  },
  {
   "cell_type": "markdown",
   "id": "secure-tribe",
   "metadata": {},
   "source": [
    "## 8. 테스트"
   ]
  },
  {
   "cell_type": "code",
   "execution_count": 8,
   "id": "coordinate-memorabilia",
   "metadata": {},
   "outputs": [
    {
     "data": {
      "image/png": "[encoded data removed]",
      "text/plain": [
       "<Figure size 432x288 with 1 Axes>"
      ]
     },
     "metadata": {
      "needs_background": "light"
     },
     "output_type": "display_data"
    },
    {
     "data": {
      "image/png": "[encoded data removed]",
      "text/plain": [
       "<Figure size 432x288 with 1 Axes>"
      ]
     },
     "metadata": {
      "needs_background": "light"
     },
     "output_type": "display_data"
    },
    {
     "data": {
      "image/png": "[encoded data removed]",
      "text/plain": [
       "<Figure size 432x288 with 1 Axes>"
      ]
     },
     "metadata": {
      "needs_background": "light"
     },
     "output_type": "display_data"
    },
    {
     "data": {
      "image/png": "[encoded data removed]",
      "text/plain": [
       "<Figure size 432x288 with 1 Axes>"
      ]
     },
     "metadata": {
      "needs_background": "light"
     },
     "output_type": "display_data"
    },
    {
     "data": {
      "image/png": "[encoded data removed]",
      "text/plain": [
       "<Figure size 432x288 with 1 Axes>"
      ]
     },
     "metadata": {
      "needs_background": "light"
     },
     "output_type": "display_data"
    },
    {
     "data": {
      "image/png": "[encoded data removed]",
      "text/plain": [
       "<Figure size 432x288 with 1 Axes>"
      ]
     },
     "metadata": {
      "needs_background": "light"
     },
     "output_type": "display_data"
    },
    {
     "data": {
      "image/png": "[encoded data removed]",
      "text/plain": [
       "<Figure size 432x288 with 1 Axes>"
      ]
     },
     "metadata": {
      "needs_background": "light"
     },
     "output_type": "display_data"
    },
    {
     "data": {
      "image/png": "[encoded data removed]",
      "text/plain": [
       "<Figure size 432x288 with 1 Axes>"
      ]
     },
     "metadata": {
      "needs_background": "light"
     },
     "output_type": "display_data"
    },
    {
     "data": {
      "image/png": "[encoded data removed]",
      "text/plain": [
       "<Figure size 432x288 with 1 Axes>"
      ]
     },
     "metadata": {
      "needs_background": "light"
     },
     "output_type": "display_data"
    },
    {
     "data": {
      "image/png": "[encoded data removed]",
      "text/plain": [
       "<Figure size 432x288 with 1 Axes>"
      ]
     },
     "metadata": {
      "needs_background": "light"
     },
     "output_type": "display_data"
    },
    {
     "name": "stdout",
     "output_type": "stream",
     "text": [
      "정확도: 91.91\n"
     ]
    }
   ],
   "source": [
    "mysum = 0\n",
    "\n",
    "m = len(mnist_test)\n",
    "cnt = 0\n",
    "for i in range(m):\n",
    "    image, label = mnist_test.__getitem__(i)    # 0번째 데이터\n",
    "    output = model(image)\n",
    "    \n",
    "    if(i%1000==0):\n",
    "        img = image.numpy()    # image 타입을 numpy로 변환 (1,28,28)\n",
    "        pred_label = np.argmax(output)\n",
    "        plt.title(\"pred: %d, label: %d\" %(pred_label, label))\n",
    "        plt.imshow(img[0], cmap='gray')\n",
    "        plt.show()\n",
    "        \n",
    "    cnt += 1\n",
    "    mysum += (np.argmax(output) == label)\n",
    "\n",
    "print \"정확도: %.2f\" %((float(mysum)/cnt)*100.0)"
   ]
  }
 ],
 "metadata": {
  "kernelspec": {
   "display_name": "conda_pytorch_p27",
   "language": "python",
   "name": "conda_pytorch_p27"
  },
  "language_info": {
   "codemirror_mode": {
    "name": "ipython",
    "version": 2
   },
   "file_extension": ".py",
   "mimetype": "text/x-python",
   "name": "python",
   "nbconvert_exporter": "python",
   "pygments_lexer": "ipython2",
   "version": "2.7.16"
  }
 },
 "nbformat": 4,
 "nbformat_minor": 5
}
